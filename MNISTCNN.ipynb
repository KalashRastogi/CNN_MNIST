{
 "cells": [
  {
   "cell_type": "code",
   "execution_count": 14,
   "metadata": {},
   "outputs": [],
   "source": [
    "import numpy\n",
    "from keras.datasets import mnist\n",
    "from keras.models import Sequential\n",
    "from keras.layers import Dense\n",
    "from keras.layers import Dropout\n",
    "from keras.layers import Flatten\n",
    "from keras.layers.convolutional import Conv2D\n",
    "from keras.layers.convolutional import MaxPooling2D\n",
    "from keras.utils import np_utils\n",
    "from keras import backend as K\n",
    "K.set_image_dim_ordering('th')"
   ]
  },
  {
   "cell_type": "code",
   "execution_count": 15,
   "metadata": {},
   "outputs": [
    {
     "name": "stdout",
     "output_type": "stream",
     "text": [
      "10\n"
     ]
    }
   ],
   "source": [
    "seed = 7;\n",
    "numpy.random.seed(seed)\n",
    "(X_train,y_train),(X_test,y_test) = mnist.load_data()\n",
    "X_train = X_train.reshape(X_train.shape[0],1,28,28).astype('float32')\n",
    "X_test = X_test.reshape(X_test.shape[0],1,28,28).astype('float32')\n",
    "X_train = X_train/255\n",
    "X_test = X_test/255\n",
    "y_train = np_utils.to_categorical(y_train)\n",
    "y_test = np_utils.to_categorical(y_test)\n",
    "num_classes = y_test.shape[1]\n",
    "print(num_classes)"
   ]
  },
  {
   "cell_type": "code",
   "execution_count": 18,
   "metadata": {},
   "outputs": [],
   "source": [
    "def larger_model():\n",
    "    model = Sequential()\n",
    "    model.add(Conv2D(30, (5,5),input_shape = (1,28,28),activation = 'relu'))\n",
    "    model.add(MaxPooling2D(pool_size=(2, 2)))\n",
    "    model.add(Conv2D(15, (3, 3), activation = 'relu'))\n",
    "    model.add(Dropout(0.2))\n",
    "    model.add(Flatten())\n",
    "    model.add(Dense(128, activation = 'relu'))\n",
    "    model.add(Dense(50, activation = 'relu'))\n",
    "    model.add(Dense(num_classes, activation = 'softmax'))\n",
    "    model.compile(loss = 'categorical_crossentropy', optimizer = 'adam', metrics = ['accuracy'])\n",
    "    return model"
   ]
  },
  {
   "cell_type": "code",
   "execution_count": 20,
   "metadata": {},
   "outputs": [
    {
     "name": "stdout",
     "output_type": "stream",
     "text": [
      "Train on 60000 samples, validate on 10000 samples\n",
      "Epoch 1/10\n",
      "60000/60000 [==============================] - 12s 204us/step - loss: 0.2778 - acc: 0.9175 - val_loss: 0.0719 - val_acc: 0.9780\n",
      "Epoch 2/10\n",
      "60000/60000 [==============================] - 12s 197us/step - loss: 0.0703 - acc: 0.9784 - val_loss: 0.0422 - val_acc: 0.9870\n",
      "Epoch 3/10\n",
      "60000/60000 [==============================] - 12s 192us/step - loss: 0.0481 - acc: 0.9854 - val_loss: 0.0359 - val_acc: 0.9883\n",
      "Epoch 4/10\n",
      "60000/60000 [==============================] - 11s 191us/step - loss: 0.0390 - acc: 0.9877 - val_loss: 0.0330 - val_acc: 0.9894\n",
      "Epoch 5/10\n",
      "60000/60000 [==============================] - 12s 198us/step - loss: 0.0321 - acc: 0.9896 - val_loss: 0.0296 - val_acc: 0.9908\n",
      "Epoch 6/10\n",
      "60000/60000 [==============================] - 13s 214us/step - loss: 0.0269 - acc: 0.9911 - val_loss: 0.0259 - val_acc: 0.9921\n",
      "Epoch 7/10\n",
      "60000/60000 [==============================] - 12s 194us/step - loss: 0.0224 - acc: 0.9929 - val_loss: 0.0300 - val_acc: 0.9910\n",
      "Epoch 8/10\n",
      "60000/60000 [==============================] - 12s 195us/step - loss: 0.0211 - acc: 0.9933 - val_loss: 0.0281 - val_acc: 0.9920\n",
      "Epoch 9/10\n",
      "60000/60000 [==============================] - 12s 195us/step - loss: 0.0185 - acc: 0.9942 - val_loss: 0.0313 - val_acc: 0.9903\n",
      "Epoch 10/10\n",
      "60000/60000 [==============================] - 16s 259us/step - loss: 0.0153 - acc: 0.9954 - val_loss: 0.0392 - val_acc: 0.9885\n",
      "Error: 1.15%\n"
     ]
    }
   ],
   "source": [
    "model = larger_model()\n",
    "model.fit(X_train,y_train,validation_data = (X_test, y_test), epochs = 10,batch_size=200)\n",
    "scores = model.evaluate(X_test, y_test, verbose = 0)\n",
    "print(\"Error: %.2f%%\" %(100-scores[1]*100))"
   ]
  },
  {
   "cell_type": "code",
   "execution_count": 22,
   "metadata": {},
   "outputs": [],
   "source": [
    "model.save(\"mnist_model.h5\")\n",
    "'''TO RESTORE THE SAME USE THIS!\n",
    "new_model = keras.models.load_model('my_model.h5')\n",
    "new_model.summary()'''"
   ]
  }
 ],
 "metadata": {
  "kernelspec": {
   "display_name": "Python 3",
   "language": "python",
   "name": "python3"
  },
  "language_info": {
   "codemirror_mode": {
    "name": "ipython",
    "version": 3
   },
   "file_extension": ".py",
   "mimetype": "text/x-python",
   "name": "python",
   "nbconvert_exporter": "python",
   "pygments_lexer": "ipython3",
   "version": "3.7.3"
  }
 },
 "nbformat": 4,
 "nbformat_minor": 2
}
